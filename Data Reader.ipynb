{
 "cells": [
  {
   "cell_type": "markdown",
   "metadata": {},
   "source": [
    "### Open the files\n",
    "Select the 0th index counts file to be read in"
   ]
  },
  {
   "cell_type": "code",
   "execution_count": 1,
   "metadata": {},
   "outputs": [],
   "source": [
    "from t3r_read import t3r\n",
    "from tdms_read import tdms\n",
    "import os;\n",
    "from tkinter import filedialog\n",
    "from zoom import zoom_factory;\n",
    "import numpy as np;\n",
    "from matplotlib.widgets import Slider,SpanSelector, Button\n",
    "import matplotlib.pyplot as plt\n",
    "\n",
    "\n",
    "%load_ext autoreload\n",
    "%autoreload 2\n",
    "\n",
    "file_path = filedialog.askopenfilename();\n",
    "filename = os.path.abspath(file_path);"
   ]
  },
  {
   "cell_type": "code",
   "execution_count": 2,
   "metadata": {
    "scrolled": false
   },
   "outputs": [],
   "source": [
    "from plotter import Plotter\n",
    "from dataclasses import dataclass\n",
    "\n",
    "from utils import index_suffix, make_extension, AbstractFile\n",
    "\n",
    "\n",
    "use_inputsgn_files = True\n",
    "file_interval = (40,50)  # (n,m) open file with indices starting at n up to m-1\n",
    "seconds_in_file = 10.1  # use this value if it is desired to override standard calculation of file length\n",
    "\n",
    "# abstractfile = AbstractFile(filename, index_suffix, 4)\n",
    "abstractfile = AbstractFile(filename, make_extension, '40')\n",
    "    \n",
    "plotter = Plotter(abstractfile, file_interval=file_interval, bin=10e-3)\n",
    "seconds_in_file = plotter.seconds_in_file"
   ]
  },
  {
   "cell_type": "code",
   "execution_count": 13,
   "metadata": {
    "scrolled": false
   },
   "outputs": [
    {
     "name": "stdout",
     "output_type": "stream",
     "text": [
      "9\n",
      "10\n",
      "11\n",
      "12\n",
      "<class 'mplcursors._pick_info.Selection'>\n"
     ]
    }
   ],
   "source": [
    "# qt backend (opens separate window). Small bugs \n",
    "# import IPython\n",
    "\n",
    "# shell = IPython.get_ipython()\n",
    "# shell.enable_matplotlib(gui='qt')\n",
    "\n",
    "# IPython widget backend\n",
    "%matplotlib widget\n",
    "\n",
    "plotter.set_file_interval(9, 13)\n",
    "\n",
    "plt.close('all')\n",
    "plotter.init_figure()\n",
    "plotter.plot_counts()\n",
    "plotter.plot_input(10000e-6, 1.0/8, yoffset=-8, log_offset=0.32)\n",
    "plt.show()"
   ]
  },
  {
   "cell_type": "code",
   "execution_count": 37,
   "metadata": {},
   "outputs": [],
   "source": [
    "# Calculate and plot the Fourier Spectrum\n",
    "plotter.fft(1e-4) "
   ]
  },
  {
   "cell_type": "code",
   "execution_count": null,
   "metadata": {},
   "outputs": [],
   "source": [
    "# Disable the input and log graphs\n",
    "plotter.set_display_input(True)"
   ]
  },
  {
   "cell_type": "code",
   "execution_count": null,
   "metadata": {},
   "outputs": [],
   "source": [
    "# Hide the counts plot\n",
    "plotter.main_ax.set_visible(False)"
   ]
  },
  {
   "cell_type": "markdown",
   "metadata": {},
   "source": [
    "### Find events and plot them\n",
    "\n",
    "As of now the events are detected by the DIO value going from True to False\n",
    "\n",
    "The timetraces near each event are loaded in, plotted and the graph is then saved as .png in a folder in the TDMS file's directory"
   ]
  },
  {
   "cell_type": "code",
   "execution_count": 44,
   "metadata": {
    "scrolled": false
   },
   "outputs": [
    {
     "name": "stdout",
     "output_type": "stream",
     "text": [
      "In this experiment there were 16 observed encounters\n"
     ]
    }
   ],
   "source": [
    "from utils import make_extension, DIO_event, read_interval_from_multiple_files, AbstractCountsFile, COUNTS\n",
    "        \n",
    "       \n",
    "event_bins = 10e-3    \n",
    "    \n",
    "# loop over events to find thresholding events\n",
    "dio_events = []\n",
    "for i in plotter.log_entries:\n",
    "    if i.previous_event and i.previous_event._dio:\n",
    "        if not i._dio:\n",
    "            t = i.t_start \n",
    "            file_index = int(t // seconds_in_file)\n",
    "            relative_to_file = t - file_index*seconds_in_file\n",
    "            dio_events.append(DIO_event(file_index=file_index, \n",
    "                                        seconds_in_file=relative_to_file, total_seconds = t))\n",
    "\n",
    "\n",
    "print('In this experiment there were %i observed encounters' % len(dio_events))\n",
    "\n",
    "# draw counts near DIO events\n",
    "\n",
    "left_margin = 6\n",
    "right_margin = 4\n",
    "\n",
    "event_fig = plt.figure()\n",
    "for event in dio_events:\n",
    "    event_data_x, event_data_y = read_interval_from_multiple_files(AbstractCountsFile(abstractfile), seconds_in_file,\n",
    "                                                                  event.total_seconds-left_margin, event.total_seconds+right_margin,\n",
    "                                                                  10e-3)\n",
    "    \n",
    "    save_dir = abstractfile.dir + ('events_%s%s\\\\' % (abstractfile.basename, COUNTS))\n",
    "    if not os.path.exists(save_dir):\n",
    "        os.makedirs(save_dir)\n",
    "    \n",
    "    event_fig.clf()\n",
    "    plt.plot(event_data_x + int((event.total_seconds-left_margin)//seconds_in_file)*seconds_in_file, event_data_y / event_bins)\n",
    "    plt.scatter(event.total_seconds, 0, color='r')\n",
    "    plt.savefig(save_dir + ('%i' %event.total_seconds) + '.png')\n",
    "    \n",
    "plt.close(event_fig)\n",
    "    "
   ]
  },
  {
   "cell_type": "code",
   "execution_count": 43,
   "metadata": {},
   "outputs": [
    {
     "name": "stdout",
     "output_type": "stream",
     "text": [
      "(244.531, 247.212)\n",
      "7.22\n",
      "7.213\n"
     ]
    }
   ],
   "source": [
    "from utils import read_interval_from_multiple_files\n",
    "\n",
    "\n",
    "index = 15 # open event with this index (starting at 0)\n",
    "lm = 6 # left margin\n",
    "rm = 4 # right margin\n",
    "fft_bin = 1e-3\n",
    "binsize = 10e-3\n",
    "\n",
    "event = dio_events[index]\n",
    "\n",
    "fig, axes = plt.subplots(3, figsize=(8,8))\n",
    "\n",
    "def onselect(xmin, xmax):\n",
    "    axes[1].clear()\n",
    "    axes[2].clear()\n",
    "    zoomx, zoomy = read_interval_from_multiple_files(AbstractCountsFile(abstractfile), seconds_in_file,\n",
    "                                                                  xmin, xmax, binsize)\n",
    "    \n",
    "    axes[1].plot(zoomx, zoomy / binsize)\n",
    "\n",
    "    t, s = read_interval_from_multiple_files(AbstractCountsFile(abstractfile), seconds_in_file,\n",
    "                                                                  xmin, xmax, fft_bin)\n",
    "    \n",
    "    fft_y = np.abs(np.fft.fft(s))\n",
    "    fft_x = np.arange(0, np.shape(fft_y)[0], 1) / fft_bin / np.shape(s)[0];\n",
    "    \n",
    "    axes[2].loglog(fft_x, fft_y)\n",
    "\n",
    "datax, datay = read_interval_from_multiple_files(AbstractCountsFile(abstractfile), seconds_in_file,\n",
    "                                                                    event.total_seconds-lm, event.total_seconds+rm,\n",
    "                                                                    binsize)\n",
    "\n",
    "axes[0].plot(datax + int((event.total_seconds-lm)//seconds_in_file)*seconds_in_file, datay / binsize)\n",
    "event_span = SpanSelector(axes[0], onselect, 'horizontal', useblit=True,\n",
    "                                rectprops=dict(alpha=0.7, facecolor='orange'), span_stays=True, minspan=0.05)\n"
   ]
  }
 ],
 "metadata": {
  "kernelspec": {
   "display_name": "Python 3",
   "language": "python",
   "name": "python3"
  },
  "language_info": {
   "codemirror_mode": {
    "name": "ipython",
    "version": 3
   },
   "file_extension": ".py",
   "mimetype": "text/x-python",
   "name": "python",
   "nbconvert_exporter": "python",
   "pygments_lexer": "ipython3",
   "version": "3.8.5"
  }
 },
 "nbformat": 4,
 "nbformat_minor": 4
}
